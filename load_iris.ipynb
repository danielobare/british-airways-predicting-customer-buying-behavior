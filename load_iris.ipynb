{
 "cells": [
  {
   "cell_type": "code",
   "execution_count": null,
   "id": "8ee4e730",
   "metadata": {},
   "outputs": [],
   "source": [
    "from sklearn.datasets import load_iris"
   ]
  },
  {
   "cell_type": "code",
   "execution_count": null,
   "id": "8f6e2b77",
   "metadata": {},
   "outputs": [],
   "source": [
    "X, y = load_iris(return_X_y=True)"
   ]
  },
  {
   "cell_type": "code",
   "execution_count": null,
   "id": "051cf57f",
   "metadata": {},
   "outputs": [],
   "source": [
    "from sklearn.neighbors import KNeighborsRegressor\n",
    "import matplotlib.pylab as plt"
   ]
  },
  {
   "cell_type": "code",
   "execution_count": null,
   "id": "3d9fa967",
   "metadata": {},
   "outputs": [],
   "source": [
    "mod = KNeighborsRegressor(n_neighbors=100)"
   ]
  },
  {
   "cell_type": "code",
   "execution_count": null,
   "id": "e0de7e6a",
   "metadata": {},
   "outputs": [],
   "source": [
    "mod.fit(X, y)"
   ]
  },
  {
   "cell_type": "code",
   "execution_count": null,
   "id": "de1f8aa5",
   "metadata": {},
   "outputs": [],
   "source": [
    "KNeighborsRegressor()"
   ]
  },
  {
   "cell_type": "code",
   "execution_count": null,
   "id": "bcd7ba14",
   "metadata": {},
   "outputs": [],
   "source": [
    "mod.predict(X)"
   ]
  },
  {
   "cell_type": "code",
   "execution_count": null,
   "id": "1cf981f6",
   "metadata": {},
   "outputs": [],
   "source": [
    "pred = mod.predict(X)"
   ]
  },
  {
   "cell_type": "code",
   "execution_count": null,
   "id": "0f4a908d",
   "metadata": {},
   "outputs": [],
   "source": [
    "plt.plot(pred, y)"
   ]
  },
  {
   "cell_type": "code",
   "execution_count": null,
   "id": "b63675ae",
   "metadata": {},
   "outputs": [],
   "source": [
    "plt.stem(pred, y)"
   ]
  },
  {
   "cell_type": "code",
   "execution_count": null,
   "id": "87e75da6",
   "metadata": {},
   "outputs": [],
   "source": [
    "plt.stackplot(pred, y)"
   ]
  },
  {
   "cell_type": "code",
   "execution_count": null,
   "id": "611d89d1",
   "metadata": {},
   "outputs": [],
   "source": [
    "plt.fill_between(pred, y)"
   ]
  },
  {
   "cell_type": "code",
   "execution_count": null,
   "id": "cd96b629",
   "metadata": {},
   "outputs": [],
   "source": [
    "plt.step(pred, y)"
   ]
  },
  {
   "cell_type": "code",
   "execution_count": null,
   "id": "9c2fc71e",
   "metadata": {},
   "outputs": [],
   "source": []
  }
 ],
 "metadata": {
  "kernelspec": {
   "display_name": "Python 3 (ipykernel)",
   "language": "python",
   "name": "python3"
  },
  "language_info": {
   "codemirror_mode": {
    "name": "ipython",
    "version": 3
   },
   "file_extension": ".py",
   "mimetype": "text/x-python",
   "name": "python",
   "nbconvert_exporter": "python",
   "pygments_lexer": "ipython3",
   "version": "3.10.9"
  }
 },
 "nbformat": 4,
 "nbformat_minor": 5
}
