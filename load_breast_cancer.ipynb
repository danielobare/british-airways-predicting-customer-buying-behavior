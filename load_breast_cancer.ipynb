{
 "cells": [
  {
   "cell_type": "code",
   "execution_count": 1,
   "id": "7c86fac5",
   "metadata": {},
   "outputs": [],
   "source": [
    "from sklearn.datasets import load_breast_cancer"
   ]
  },
  {
   "cell_type": "code",
   "execution_count": 2,
   "id": "33075cb2",
   "metadata": {},
   "outputs": [],
   "source": [
    "X, y = load_breast_cancer(return_X_y=True)"
   ]
  },
  {
   "cell_type": "code",
   "execution_count": 3,
   "id": "5fd5ebe2",
   "metadata": {},
   "outputs": [],
   "source": [
    "from sklearn.neighbors import KNeighborsRegressor\n",
    "import matplotlib.pylab as plt"
   ]
  },
  {
   "cell_type": "code",
   "execution_count": 4,
   "id": "bbf9ba3b",
   "metadata": {},
   "outputs": [],
   "source": [
    "mod = KNeighborsRegressor()"
   ]
  },
  {
   "cell_type": "code",
   "execution_count": 5,
   "id": "8edd1459",
   "metadata": {},
   "outputs": [
    {
     "data": {
      "text/html": [
       "<style>#sk-container-id-1 {color: black;}#sk-container-id-1 pre{padding: 0;}#sk-container-id-1 div.sk-toggleable {background-color: white;}#sk-container-id-1 label.sk-toggleable__label {cursor: pointer;display: block;width: 100%;margin-bottom: 0;padding: 0.3em;box-sizing: border-box;text-align: center;}#sk-container-id-1 label.sk-toggleable__label-arrow:before {content: \"▸\";float: left;margin-right: 0.25em;color: #696969;}#sk-container-id-1 label.sk-toggleable__label-arrow:hover:before {color: black;}#sk-container-id-1 div.sk-estimator:hover label.sk-toggleable__label-arrow:before {color: black;}#sk-container-id-1 div.sk-toggleable__content {max-height: 0;max-width: 0;overflow: hidden;text-align: left;background-color: #f0f8ff;}#sk-container-id-1 div.sk-toggleable__content pre {margin: 0.2em;color: black;border-radius: 0.25em;background-color: #f0f8ff;}#sk-container-id-1 input.sk-toggleable__control:checked~div.sk-toggleable__content {max-height: 200px;max-width: 100%;overflow: auto;}#sk-container-id-1 input.sk-toggleable__control:checked~label.sk-toggleable__label-arrow:before {content: \"▾\";}#sk-container-id-1 div.sk-estimator input.sk-toggleable__control:checked~label.sk-toggleable__label {background-color: #d4ebff;}#sk-container-id-1 div.sk-label input.sk-toggleable__control:checked~label.sk-toggleable__label {background-color: #d4ebff;}#sk-container-id-1 input.sk-hidden--visually {border: 0;clip: rect(1px 1px 1px 1px);clip: rect(1px, 1px, 1px, 1px);height: 1px;margin: -1px;overflow: hidden;padding: 0;position: absolute;width: 1px;}#sk-container-id-1 div.sk-estimator {font-family: monospace;background-color: #f0f8ff;border: 1px dotted black;border-radius: 0.25em;box-sizing: border-box;margin-bottom: 0.5em;}#sk-container-id-1 div.sk-estimator:hover {background-color: #d4ebff;}#sk-container-id-1 div.sk-parallel-item::after {content: \"\";width: 100%;border-bottom: 1px solid gray;flex-grow: 1;}#sk-container-id-1 div.sk-label:hover label.sk-toggleable__label {background-color: #d4ebff;}#sk-container-id-1 div.sk-serial::before {content: \"\";position: absolute;border-left: 1px solid gray;box-sizing: border-box;top: 0;bottom: 0;left: 50%;z-index: 0;}#sk-container-id-1 div.sk-serial {display: flex;flex-direction: column;align-items: center;background-color: white;padding-right: 0.2em;padding-left: 0.2em;position: relative;}#sk-container-id-1 div.sk-item {position: relative;z-index: 1;}#sk-container-id-1 div.sk-parallel {display: flex;align-items: stretch;justify-content: center;background-color: white;position: relative;}#sk-container-id-1 div.sk-item::before, #sk-container-id-1 div.sk-parallel-item::before {content: \"\";position: absolute;border-left: 1px solid gray;box-sizing: border-box;top: 0;bottom: 0;left: 50%;z-index: -1;}#sk-container-id-1 div.sk-parallel-item {display: flex;flex-direction: column;z-index: 1;position: relative;background-color: white;}#sk-container-id-1 div.sk-parallel-item:first-child::after {align-self: flex-end;width: 50%;}#sk-container-id-1 div.sk-parallel-item:last-child::after {align-self: flex-start;width: 50%;}#sk-container-id-1 div.sk-parallel-item:only-child::after {width: 0;}#sk-container-id-1 div.sk-dashed-wrapped {border: 1px dashed gray;margin: 0 0.4em 0.5em 0.4em;box-sizing: border-box;padding-bottom: 0.4em;background-color: white;}#sk-container-id-1 div.sk-label label {font-family: monospace;font-weight: bold;display: inline-block;line-height: 1.2em;}#sk-container-id-1 div.sk-label-container {text-align: center;}#sk-container-id-1 div.sk-container {/* jupyter's `normalize.less` sets `[hidden] { display: none; }` but bootstrap.min.css set `[hidden] { display: none !important; }` so we also need the `!important` here to be able to override the default hidden behavior on the sphinx rendered scikit-learn.org. See: https://github.com/scikit-learn/scikit-learn/issues/21755 */display: inline-block !important;position: relative;}#sk-container-id-1 div.sk-text-repr-fallback {display: none;}</style><div id=\"sk-container-id-1\" class=\"sk-top-container\"><div class=\"sk-text-repr-fallback\"><pre>KNeighborsRegressor()</pre><b>In a Jupyter environment, please rerun this cell to show the HTML representation or trust the notebook. <br />On GitHub, the HTML representation is unable to render, please try loading this page with nbviewer.org.</b></div><div class=\"sk-container\" hidden><div class=\"sk-item\"><div class=\"sk-estimator sk-toggleable\"><input class=\"sk-toggleable__control sk-hidden--visually\" id=\"sk-estimator-id-1\" type=\"checkbox\" checked><label for=\"sk-estimator-id-1\" class=\"sk-toggleable__label sk-toggleable__label-arrow\">KNeighborsRegressor</label><div class=\"sk-toggleable__content\"><pre>KNeighborsRegressor()</pre></div></div></div></div></div>"
      ],
      "text/plain": [
       "KNeighborsRegressor()"
      ]
     },
     "execution_count": 5,
     "metadata": {},
     "output_type": "execute_result"
    }
   ],
   "source": [
    "mod.fit(X, y)"
   ]
  },
  {
   "cell_type": "code",
   "execution_count": 6,
   "id": "bd0b0a8b",
   "metadata": {},
   "outputs": [
    {
     "data": {
      "text/html": [
       "<style>#sk-container-id-2 {color: black;}#sk-container-id-2 pre{padding: 0;}#sk-container-id-2 div.sk-toggleable {background-color: white;}#sk-container-id-2 label.sk-toggleable__label {cursor: pointer;display: block;width: 100%;margin-bottom: 0;padding: 0.3em;box-sizing: border-box;text-align: center;}#sk-container-id-2 label.sk-toggleable__label-arrow:before {content: \"▸\";float: left;margin-right: 0.25em;color: #696969;}#sk-container-id-2 label.sk-toggleable__label-arrow:hover:before {color: black;}#sk-container-id-2 div.sk-estimator:hover label.sk-toggleable__label-arrow:before {color: black;}#sk-container-id-2 div.sk-toggleable__content {max-height: 0;max-width: 0;overflow: hidden;text-align: left;background-color: #f0f8ff;}#sk-container-id-2 div.sk-toggleable__content pre {margin: 0.2em;color: black;border-radius: 0.25em;background-color: #f0f8ff;}#sk-container-id-2 input.sk-toggleable__control:checked~div.sk-toggleable__content {max-height: 200px;max-width: 100%;overflow: auto;}#sk-container-id-2 input.sk-toggleable__control:checked~label.sk-toggleable__label-arrow:before {content: \"▾\";}#sk-container-id-2 div.sk-estimator input.sk-toggleable__control:checked~label.sk-toggleable__label {background-color: #d4ebff;}#sk-container-id-2 div.sk-label input.sk-toggleable__control:checked~label.sk-toggleable__label {background-color: #d4ebff;}#sk-container-id-2 input.sk-hidden--visually {border: 0;clip: rect(1px 1px 1px 1px);clip: rect(1px, 1px, 1px, 1px);height: 1px;margin: -1px;overflow: hidden;padding: 0;position: absolute;width: 1px;}#sk-container-id-2 div.sk-estimator {font-family: monospace;background-color: #f0f8ff;border: 1px dotted black;border-radius: 0.25em;box-sizing: border-box;margin-bottom: 0.5em;}#sk-container-id-2 div.sk-estimator:hover {background-color: #d4ebff;}#sk-container-id-2 div.sk-parallel-item::after {content: \"\";width: 100%;border-bottom: 1px solid gray;flex-grow: 1;}#sk-container-id-2 div.sk-label:hover label.sk-toggleable__label {background-color: #d4ebff;}#sk-container-id-2 div.sk-serial::before {content: \"\";position: absolute;border-left: 1px solid gray;box-sizing: border-box;top: 0;bottom: 0;left: 50%;z-index: 0;}#sk-container-id-2 div.sk-serial {display: flex;flex-direction: column;align-items: center;background-color: white;padding-right: 0.2em;padding-left: 0.2em;position: relative;}#sk-container-id-2 div.sk-item {position: relative;z-index: 1;}#sk-container-id-2 div.sk-parallel {display: flex;align-items: stretch;justify-content: center;background-color: white;position: relative;}#sk-container-id-2 div.sk-item::before, #sk-container-id-2 div.sk-parallel-item::before {content: \"\";position: absolute;border-left: 1px solid gray;box-sizing: border-box;top: 0;bottom: 0;left: 50%;z-index: -1;}#sk-container-id-2 div.sk-parallel-item {display: flex;flex-direction: column;z-index: 1;position: relative;background-color: white;}#sk-container-id-2 div.sk-parallel-item:first-child::after {align-self: flex-end;width: 50%;}#sk-container-id-2 div.sk-parallel-item:last-child::after {align-self: flex-start;width: 50%;}#sk-container-id-2 div.sk-parallel-item:only-child::after {width: 0;}#sk-container-id-2 div.sk-dashed-wrapped {border: 1px dashed gray;margin: 0 0.4em 0.5em 0.4em;box-sizing: border-box;padding-bottom: 0.4em;background-color: white;}#sk-container-id-2 div.sk-label label {font-family: monospace;font-weight: bold;display: inline-block;line-height: 1.2em;}#sk-container-id-2 div.sk-label-container {text-align: center;}#sk-container-id-2 div.sk-container {/* jupyter's `normalize.less` sets `[hidden] { display: none; }` but bootstrap.min.css set `[hidden] { display: none !important; }` so we also need the `!important` here to be able to override the default hidden behavior on the sphinx rendered scikit-learn.org. See: https://github.com/scikit-learn/scikit-learn/issues/21755 */display: inline-block !important;position: relative;}#sk-container-id-2 div.sk-text-repr-fallback {display: none;}</style><div id=\"sk-container-id-2\" class=\"sk-top-container\"><div class=\"sk-text-repr-fallback\"><pre>KNeighborsRegressor()</pre><b>In a Jupyter environment, please rerun this cell to show the HTML representation or trust the notebook. <br />On GitHub, the HTML representation is unable to render, please try loading this page with nbviewer.org.</b></div><div class=\"sk-container\" hidden><div class=\"sk-item\"><div class=\"sk-estimator sk-toggleable\"><input class=\"sk-toggleable__control sk-hidden--visually\" id=\"sk-estimator-id-2\" type=\"checkbox\" checked><label for=\"sk-estimator-id-2\" class=\"sk-toggleable__label sk-toggleable__label-arrow\">KNeighborsRegressor</label><div class=\"sk-toggleable__content\"><pre>KNeighborsRegressor()</pre></div></div></div></div></div>"
      ],
      "text/plain": [
       "KNeighborsRegressor()"
      ]
     },
     "execution_count": 6,
     "metadata": {},
     "output_type": "execute_result"
    }
   ],
   "source": [
    "KNeighborsRegressor()"
   ]
  },
  {
   "cell_type": "code",
   "execution_count": 7,
   "id": "b0f34491",
   "metadata": {},
   "outputs": [
    {
     "data": {
      "text/plain": [
       "array([0. , 0. , 0. , 0.8, 0. , 0. , 0. , 0. , 0.2, 0.4, 0. , 0. , 0. ,\n",
       "       0.6, 0.8, 0. , 0. , 0. , 0. , 1. , 1. , 1. , 0. , 0. , 0. , 0. ,\n",
       "       0.6, 0. , 0. , 0.2, 0. , 0. , 0. , 0. , 0. , 0. , 0.4, 1. , 0.6,\n",
       "       0.6, 0.2, 0.6, 0. , 0. , 0.2, 0. , 1. , 0.2, 1. , 1. , 1. , 1. ,\n",
       "       1. , 0. , 0. , 1. , 0. , 0. , 1. , 1. , 1. , 1. , 0. , 1. , 0. ,\n",
       "       0.4, 1. , 1. , 1. , 1. , 0. , 1. , 0. , 0.2, 1. , 0. , 1. , 0. ,\n",
       "       0. , 1. , 1. , 1. , 0. , 0. , 1. , 0. , 0.8, 0. , 1. , 0.8, 0.8,\n",
       "       0.8, 0.2, 1. , 0. , 0. , 1. , 1. , 1. , 0.6, 0. , 1. , 1. , 1. ,\n",
       "       1. , 0.2, 1. , 1. , 0. , 1. , 1. , 1. , 0.8, 1. , 1. , 0.8, 1. ,\n",
       "       0. , 0. , 0. , 1. , 0. , 0. , 1. , 1. , 1. , 0.4, 0. , 0.8, 0. ,\n",
       "       1. , 0. , 0. , 0.6, 0. , 0.8, 1. , 1. , 0. , 1. , 1. , 0. , 1. ,\n",
       "       0.8, 1. , 1. , 0.8, 1. , 1. , 1. , 1. , 1. , 1. , 1. , 1. , 1. ,\n",
       "       0. , 0.4, 1. , 1. , 1. , 0. , 0. , 1. , 0. , 1. , 1. , 0. , 0. ,\n",
       "       1. , 1. , 0. , 0. , 1. , 1. , 1. , 1. , 0.4, 1. , 1. , 0. , 0. ,\n",
       "       0. , 1. , 0.2, 1. , 0. , 1. , 1. , 1. , 0.8, 1. , 1. , 0. , 0.8,\n",
       "       1. , 0. , 0.2, 0. , 0. , 1. , 0. , 0. , 0. , 0.4, 0. , 1. , 0. ,\n",
       "       1. , 0.4, 0. , 1. , 0. , 0.4, 0.4, 0.6, 1. , 1. , 0. , 0. , 1. ,\n",
       "       1. , 1. , 0. , 1. , 0.8, 1. , 1. , 1. , 0.4, 0. , 1. , 1. , 0. ,\n",
       "       1. , 1. , 0. , 0. , 0.8, 0. , 1. , 1. , 1. , 1. , 0. , 1. , 1. ,\n",
       "       1. , 1. , 1. , 0. , 1. , 0. , 0. , 0. , 0.4, 0. , 0.2, 0. , 0. ,\n",
       "       0. , 0. , 0. , 0.2, 0. , 0. , 1. , 1. , 1. , 1. , 1. , 1. , 0. ,\n",
       "       1. , 0. , 1. , 1. , 0.2, 0.6, 1. , 0. , 1. , 0. , 0.2, 1. , 1. ,\n",
       "       1. , 1. , 1. , 1. , 0.8, 1. , 1. , 1. , 1. , 1. , 1. , 0.8, 0.4,\n",
       "       1. , 0. , 1. , 0. , 1. , 1. , 1. , 1. , 1. , 1. , 1. , 1. , 1. ,\n",
       "       1. , 1. , 1. , 1. , 1. , 0. , 1. , 1. , 1. , 0. , 1. , 0. , 1. ,\n",
       "       1. , 1. , 1. , 0. , 0.4, 0. , 1. , 1. , 1. , 1. , 0. , 1. , 0. ,\n",
       "       1. , 0. , 1. , 1. , 1. , 0. , 1. , 1. , 1. , 1. , 1. , 1. , 1. ,\n",
       "       0.2, 0. , 0. , 1. , 1. , 1. , 1. , 1. , 1. , 1. , 1. , 1. , 0.4,\n",
       "       1. , 0. , 0. , 1. , 0. , 0. , 0. , 0.8, 0. , 0. , 1. , 0.6, 1. ,\n",
       "       1. , 1. , 0.6, 1. , 1. , 1. , 1. , 1. , 0.8, 1. , 0.8, 1. , 0. ,\n",
       "       1. , 1. , 0. , 0. , 1. , 1. , 1. , 1. , 1. , 1. , 0. , 0.8, 1. ,\n",
       "       1. , 1. , 1. , 0.6, 0.8, 0. , 1. , 1. , 1. , 1. , 0.8, 0.2, 1. ,\n",
       "       1. , 0. , 1. , 1. , 1. , 0.8, 1. , 0.8, 1. , 1. , 1. , 0.8, 1. ,\n",
       "       1. , 0.8, 1. , 0. , 0. , 1. , 0.6, 1. , 0.8, 0.8, 1. , 1. , 0. ,\n",
       "       1. , 1. , 0. , 1. , 0. , 1. , 1. , 0. , 1. , 0. , 1. , 1. , 1. ,\n",
       "       1. , 1. , 1. , 1. , 1. , 0. , 0. , 0.8, 1. , 1. , 0.4, 1. , 1. ,\n",
       "       0. , 1. , 1. , 0.8, 0.6, 1. , 1. , 1. , 0.6, 1. , 1. , 0.4, 1. ,\n",
       "       0.4, 1. , 1. , 0.6, 1. , 1. , 0. , 1. , 0.2, 1. , 0.2, 0. , 1. ,\n",
       "       1. , 0.8, 1. , 1. , 0. , 0. , 0.8, 0. , 1. , 0. , 1. , 1. , 1. ,\n",
       "       1. , 0.6, 0.2, 1. , 0.8, 0.2, 1. , 0. , 1. , 0. , 0. , 0.6, 1. ,\n",
       "       1. , 0. , 1. , 1. , 1. , 1. , 0.8, 1. , 1. , 1. , 1. , 1. , 0.6,\n",
       "       0. , 1. , 0. , 0.8, 1. , 1. , 1. , 1. , 0.8, 1. , 1. , 0.8, 0.8,\n",
       "       1. , 1. , 1. , 0.6, 1. , 1. , 1. , 1. , 1. , 1. , 1. , 1. , 0.8,\n",
       "       1. , 1. , 1. , 0.4, 0. , 0. , 0. , 0. , 0. , 1. ])"
      ]
     },
     "execution_count": 7,
     "metadata": {},
     "output_type": "execute_result"
    }
   ],
   "source": [
    "mod.predict(X)"
   ]
  },
  {
   "cell_type": "code",
   "execution_count": 8,
   "id": "9cd07b6c",
   "metadata": {},
   "outputs": [],
   "source": [
    "pred = mod.predict(X)"
   ]
  },
  {
   "cell_type": "code",
   "execution_count": 9,
   "id": "6c20e53a",
   "metadata": {},
   "outputs": [
    {
     "data": {
      "text/plain": [
       "<matplotlib.collections.PathCollection at 0x1ddd34f9f90>"
      ]
     },
     "execution_count": 9,
     "metadata": {},
     "output_type": "execute_result"
    },
    {
     "data": {
      "image/png": "[encoded data removed]",
      "text/plain": [
       "<Figure size 640x480 with 1 Axes>"
      ]
     },
     "metadata": {},
     "output_type": "display_data"
    }
   ],
   "source": [
    "plt.scatter(pred, y)"
   ]
  },
  {
   "cell_type": "code",
   "execution_count": null,
   "id": "14d99c60",
   "metadata": {},
   "outputs": [],
   "source": []
  }
 ],
 "metadata": {
  "kernelspec": {
   "display_name": "Python 3 (ipykernel)",
   "language": "python",
   "name": "python3"
  },
  "language_info": {
   "codemirror_mode": {
    "name": "ipython",
    "version": 3
   },
   "file_extension": ".py",
   "mimetype": "text/x-python",
   "name": "python",
   "nbconvert_exporter": "python",
   "pygments_lexer": "ipython3",
   "version": "3.10.9"
  }
 },
 "nbformat": 4,
 "nbformat_minor": 5
}
